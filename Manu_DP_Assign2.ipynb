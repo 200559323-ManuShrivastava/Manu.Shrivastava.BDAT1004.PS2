{
 "cells": [
  {
   "cell_type": "code",
   "execution_count": 1,
   "id": "f5345f36-0f1b-40c8-8304-2ff0200ef0da",
   "metadata": {},
   "outputs": [
    {
     "name": "stdout",
     "output_type": "stream",
     "text": [
      "2\n",
      "4\n",
      "6\n"
     ]
    },
    {
     "data": {
      "text/plain": [
       "6"
      ]
     },
     "execution_count": 1,
     "metadata": {},
     "output_type": "execute_result"
    }
   ],
   "source": [
    "#Q1: Consider the following Python module:\n",
    "#code provided\n",
    "a = 0\n",
    "def b():\n",
    "    global a\n",
    "    a = c(a)\n",
    "    return a\n",
    "\n",
    "def c(a):\n",
    "    return a + 2\n",
    "print(b())\n",
    "print(b())\n",
    "print(b())\n",
    "a\n",
    "#Explanation:\n",
    "#The variable 'a' will be initiated with Zero value.\n",
    "#Step 1: 'a' is passed to c(), where 'a' = 2 now. a=0+2=2.\n",
    "#Step 2: print(b()) prints this value of 'a'.\n",
    "#Step 3: Next time, b= 2+2 =4 , hence print(b()) prints 4\n",
    "#Step 4: b=4+2 = 6\n",
    "#Step 5: print final value of 'a'."
   ]
  },
  {
   "cell_type": "code",
   "execution_count": 31,
   "id": "d8f81560-d188-4322-b81b-fc443350e367",
   "metadata": {},
   "outputs": [
    {
     "name": "stdout",
     "output_type": "stream",
     "text": [
      "Kindly enter the filename (from github repo or the correct path) to get the file length\n"
     ]
    },
    {
     "name": "stdin",
     "output_type": "stream",
     "text": [
      " 1302-Article Text-3370-1-10-20180119.pdf\n"
     ]
    },
    {
     "name": "stdout",
     "output_type": "stream",
     "text": [
      "780135\n"
     ]
    }
   ],
   "source": [
    "#Q2: Filelength.txt\n",
    "#importing 'os' library to access the file applicable functions.\n",
    "import os\n",
    "#try block to catch the error in input\n",
    "try:\n",
    "    print(\"Kindly enter the filename (from github repo or the correct path) to get the file length\")\n",
    "    #taking file name as string input\n",
    "    file_name=input()\n",
    "    if (file_name):\n",
    "        #provided function\n",
    "        def file_length(file_name):\n",
    "            #opening filename while avoiding the codec error in decoding of the different types of files.\n",
    "            #specifying encoding type for codec in case of utf-8 encoded file.\n",
    "            file = open(file_name, encoding=\"utf8\", errors=\"ignore\")\n",
    "            contents = file.read()\n",
    "            file.close()\n",
    "            print(len(contents))\n",
    "    file_length(file_name)\n",
    "except:\n",
    "    #printing specified error in case of file not found.\n",
    "    print(\"File\",file_name,\" not found.\")"
   ]
  },
  {
   "cell_type": "code",
   "execution_count": 105,
   "id": "be223150-3207-41c4-a472-dfb62236880c",
   "metadata": {},
   "outputs": [
    {
     "name": "stdout",
     "output_type": "stream",
     "text": [
      "My pouch contains a ['doll', 'firetruck', 'kitten'].\n",
      "\n",
      "I am a Kangaroo located at coordinates (0,0).\n",
      "\n",
      "My pouch contains a ['doll', 'firetruck', 'kitten'].\n",
      "\n",
      "I am a Kangaroo located at coordinates (3,0).\n",
      "\n"
     ]
    }
   ],
   "source": [
    "#Q3 Classes and Inheritance in OOPS.\n",
    "#creating class called Marsupial and passing object to the class.\n",
    "class Marsupial(object): \n",
    "    #initiating the list\n",
    "    def __init__(self): \n",
    "         \n",
    "        self.list1 = [] \n",
    "     #function to append pouch contents\n",
    "    def put_in_pouch(self, x): \n",
    "         \n",
    "        return self.list1.append(x) \n",
    "     #function to output the pouch contents\n",
    "    def pouch_contents(self):\n",
    "        \n",
    "        string1='My pouch contains a {}.'.format(str(self.list1))+'\\n'\n",
    " \n",
    "        return print(string1)\n",
    "     #function to output the object.\n",
    "    def __str__(self):\n",
    " \n",
    "        return  str(self.list1)\n",
    " \n",
    "# Part2 - Inheritance class Kangaroo \n",
    " \n",
    "class Kangaroo(Marsupial): \n",
    " \n",
    "    def __init__(self, dx, dy): \n",
    "        Marsupial.__init__(self) \n",
    "        self.dx = dx\n",
    "        self.dy = dy\n",
    "         \n",
    " #function to perform co-ordinate jump\n",
    "    def jump(self,dx,dy):\n",
    "        self.dx+=dx\n",
    "        self.dy+=dy\n",
    "        return {self.dx,self.dy}\n",
    " \n",
    " #function to output the object 'k'\n",
    "    def __str__(self):\n",
    "        return f\"I am a Kangaroo located at coordinates ({self.dx},{self.dy}).\\n\"\n",
    "\n",
    "#using class Marsupials as described in question.\n",
    "m = Marsupial()\n",
    "m.put_in_pouch('doll')\n",
    "m.put_in_pouch('firetruck')\n",
    "m.put_in_pouch('kitten')\n",
    "m.pouch_contents()\n",
    "\n",
    "#using Kangaroo class as described\n",
    "k = Kangaroo(0,0)\n",
    "print(k)\n",
    "\n",
    "#appending described values to list.\n",
    "k.put_in_pouch('doll')\n",
    "k.put_in_pouch('firetruck')\n",
    "k.put_in_pouch('kitten')\n",
    "k.pouch_contents()\n",
    "\n",
    "#to perform jump and output current co-ordinates.\n",
    "k.jump(1,0)\n",
    "k.jump(1,0)\n",
    "k.jump(1,0)\n",
    "print(k)"
   ]
  },
  {
   "cell_type": "code",
   "execution_count": 11,
   "id": "cc752fb1-ea3e-455b-98fc-ea1695de5bf1",
   "metadata": {},
   "outputs": [
    {
     "name": "stdout",
     "output_type": "stream",
     "text": [
      "Kindly enter a number to find the Collatz sequence.\n"
     ]
    },
    {
     "name": "stdin",
     "output_type": "stream",
     "text": [
      " 6\n"
     ]
    },
    {
     "name": "stdout",
     "output_type": "stream",
     "text": [
      "The Collatz sequence starting with number :  6\n",
      "3\n",
      "10\n",
      "5\n",
      "16\n",
      "8\n",
      "4\n",
      "2\n",
      "1\n"
     ]
    }
   ],
   "source": [
    "#Q4:Recursive Functions 1\n",
    "print(\"Kindly enter a number to find the Collatz sequence.\")\n",
    "n=int(input())\n",
    "list1=[]\n",
    "#the specified function takes input from user.\n",
    "def printCollatz(n):\n",
    "    while n>1:\n",
    "        if n % 2 == 0:\n",
    "            n=n//2\n",
    "            list1.append(n)\n",
    "            \n",
    "        else:\n",
    "            n=((3*n)+1)\n",
    "            list1.append(n)\n",
    "    return list1\n",
    "print(\"The Collatz sequence starting with number : \", n)\n",
    "printCollatz(n)\n",
    "for x in list1:\n",
    "    print(x)"
   ]
  },
  {
   "cell_type": "code",
   "execution_count": 21,
   "id": "8ff63c1c-495a-4966-9851-4e999c1a246e",
   "metadata": {},
   "outputs": [
    {
     "name": "stdout",
     "output_type": "stream",
     "text": [
      "Enter a number to convert to integer : \n"
     ]
    },
    {
     "name": "stdin",
     "output_type": "stream",
     "text": [
      " 3\n"
     ]
    },
    {
     "name": "stdout",
     "output_type": "stream",
     "text": [
      "The Binary value is: \n",
      "11"
     ]
    }
   ],
   "source": [
    "#Q5 binary to integer\n",
    "print(\"Enter a number to convert to integer : \")\n",
    "num=int(input())\n",
    "print(\"The Binary value is: \")\n",
    "def DecimalToBinary(num):\n",
    "    if num==0:\n",
    "        return 0\n",
    "    if num >= 1:\n",
    "        DecimalToBinary(num // 2) #recursion\n",
    "        #print(num)\n",
    "        num=num % 2\n",
    "    print(num, end = '')\n",
    "     \n",
    "DecimalToBinary(num)"
   ]
  },
  {
   "cell_type": "code",
   "execution_count": 7,
   "id": "126ee2a6-5eac-4c28-a3b6-c4ee705febd5",
   "metadata": {},
   "outputs": [],
   "source": [
    "#Q6- Creating table_cities named database with table 'information' to perform SQL queries.\n",
    "import sqlite3\n",
    "connection = sqlite3.connect('table_info.db')\n",
    "cursor = connection.cursor()\n",
    "connection =  cursor.execute(\"CREATE TABLE information(CITY text, COUNTRY text, SEASON text, TEMPERATURE float, RAINFALL float)\" )\n",
    "rows = [('Mumbai','India','Winter',24.8,5.9),('Mumbai','India','Spring',28.4,16.2),('Mumbai','India','Summer',27.9,1549.4),('Mumbai','India','Fall',27.6,346.0),('London','United Kingdom','Winter',4.2,207.7),('London','United Kingdom','Spring',8.3,169.6),('London','United Kingdom','Summer',15.7,157.0),('London','United Kingdom','Fall',10.4,218.5),('Cairo','Egypt','Winter',13.6,16.5),('Cairo','Egypt','Spring',20.7,6.5),('Cairo','Egypt','Summer',27.7,0.1),('Cairo','Egypt','Fall',22.2,4.5)]"
   ]
  },
  {
   "cell_type": "code",
   "execution_count": 8,
   "id": "cfe3015e-0f74-4103-849d-d421786734bb",
   "metadata": {},
   "outputs": [],
   "source": [
    "#To insert value into table.\n",
    "for row in rows:\n",
    "    cursor.execute(\"INSERT INTO information VALUES(?,?,?,?,?)\",(row[0],row[1],row[2],row[3],row[4]))"
   ]
  },
  {
   "cell_type": "code",
   "execution_count": 105,
   "id": "a2fba134-17cb-49c7-9984-9cb5185d81d0",
   "metadata": {},
   "outputs": [
    {
     "name": "stdout",
     "output_type": "stream",
     "text": [
      "24.8\n",
      "28.4\n",
      "27.9\n",
      "27.6\n",
      "4.2\n",
      "8.3\n",
      "15.7\n",
      "10.4\n",
      "13.6\n",
      "20.7\n",
      "27.7\n",
      "22.2\n"
     ]
    }
   ],
   "source": [
    "#Q6 - A\n",
    "cursor.execute(\"SELECT TEMPERATURE FROM information\")\n",
    "\n",
    "myresult = cursor.fetchall()\n",
    "for x in myresult:\n",
    "    for y in x:\n",
    "        print(y)"
   ]
  },
  {
   "cell_type": "code",
   "execution_count": 104,
   "id": "7511b1c7-f1ea-4e35-9145-39e86d288ee4",
   "metadata": {},
   "outputs": [
    {
     "name": "stdout",
     "output_type": "stream",
     "text": [
      "Mumbai\n",
      "London\n",
      "Cairo\n"
     ]
    }
   ],
   "source": [
    "#Q6 - B\n",
    "cursor.execute(\"SELECT DISTINCT CITY FROM information\")\n",
    "\n",
    "myresult = cursor.fetchall()\n",
    "for x in myresult:\n",
    "    for y in x:\n",
    "        print(y)"
   ]
  },
  {
   "cell_type": "code",
   "execution_count": 80,
   "id": "c269e82e-1725-46c9-b2a6-78a538d834bd",
   "metadata": {},
   "outputs": [
    {
     "name": "stdout",
     "output_type": "stream",
     "text": [
      "('Mumbai', 'India', 'Winter', 24.8, 5.9)\n",
      "('Mumbai', 'India', 'Spring', 28.4, 16.2)\n",
      "('Mumbai', 'India', 'Summer', 27.9, 1549.4)\n",
      "('Mumbai', 'India', 'Fall', 27.6, 346.0)\n"
     ]
    }
   ],
   "source": [
    "#Q6 - C\n",
    "cursor.execute(\"SELECT * FROM information WHERE COUNTRY='India'\")\n",
    "\n",
    "myresult = cursor.fetchall()\n",
    "for x in myresult:\n",
    "    print(x)"
   ]
  },
  {
   "cell_type": "code",
   "execution_count": 81,
   "id": "46228939-b6e7-451e-b10c-7d681890bc5a",
   "metadata": {},
   "outputs": [
    {
     "name": "stdout",
     "output_type": "stream",
     "text": [
      "('Mumbai', 'India', 'Fall', 27.6, 346.0)\n",
      "('London', 'United Kingdom', 'Fall', 10.4, 218.5)\n",
      "('Cairo', 'Egypt', 'Fall', 22.2, 4.5)\n"
     ]
    }
   ],
   "source": [
    "#Q6 - D\n",
    "cursor.execute(\"SELECT * FROM information WHERE SEASON='Fall'\")\n",
    "\n",
    "myresult = cursor.fetchall()\n",
    "for x in myresult:\n",
    "    print(x)"
   ]
  },
  {
   "cell_type": "code",
   "execution_count": 89,
   "id": "20b07c4c-c03f-42e5-9784-ffdec239664f",
   "metadata": {},
   "outputs": [
    {
     "name": "stdout",
     "output_type": "stream",
     "text": [
      "('Mumbai', 'India', 'Fall')\n",
      "('London', 'United Kingdom', 'Winter')\n",
      "('London', 'United Kingdom', 'Fall')\n"
     ]
    }
   ],
   "source": [
    "#Q6 - E\n",
    "cursor.execute(\"SELECT CITY, COUNTRY, SEASON FROM information WHERE RAINFALL BETWEEN 200 AND 400\")\n",
    "\n",
    "myresult = cursor.fetchall()\n",
    "for x in myresult:\n",
    "    print(x)"
   ]
  },
  {
   "cell_type": "code",
   "execution_count": 91,
   "id": "6af4f208-3a17-4184-ae06-8d1eb1f6e895",
   "metadata": {},
   "outputs": [
    {
     "name": "stdout",
     "output_type": "stream",
     "text": [
      "('Cairo', 'Egypt')\n",
      "('Mumbai', 'India')\n"
     ]
    }
   ],
   "source": [
    "#Q6 - F\n",
    "cursor.execute(\"SELECT CITY, COUNTRY FROM information WHERE SEASON='Fall' AND TEMPERATURE>20 ORDER BY TEMPERATURE\")\n",
    "\n",
    "myresult = cursor.fetchall()\n",
    "for x in myresult:\n",
    "    print(x)"
   ]
  },
  {
   "cell_type": "code",
   "execution_count": 103,
   "id": "0a38aa37-ed7b-49f3-b77a-fae797bc5222",
   "metadata": {},
   "outputs": [
    {
     "name": "stdout",
     "output_type": "stream",
     "text": [
      "27.6\n"
     ]
    }
   ],
   "source": [
    "#Q6 - G\n",
    "cursor.execute(\"SELECT sum(RAINFALL) FROM information WHERE CITY='Cairo'\")\n",
    "\n",
    "myresult = cursor.fetchall()\n",
    "for x in myresult:\n",
    "    for y in x:\n",
    "        print(y)"
   ]
  },
  {
   "cell_type": "code",
   "execution_count": 26,
   "id": "015b4a1e-ab7d-4974-bac9-50845e827c3d",
   "metadata": {},
   "outputs": [
    {
     "name": "stdout",
     "output_type": "stream",
     "text": [
      "(569.0, 'Fall')\n",
      "(192.29999999999998, 'Spring')\n",
      "(1706.5, 'Summer')\n",
      "(230.1, 'Winter')\n"
     ]
    }
   ],
   "source": [
    "#Q6 - H\n",
    "cursor.execute(\"SELECT SUM(RAINFALL), SEASON FROM information GROUP BY SEASON\")\n",
    "\n",
    "myresult = cursor.fetchall()\n",
    "for x in myresult:\n",
    "    print(x)"
   ]
  },
  {
   "cell_type": "code",
   "execution_count": 62,
   "id": "de0e56c0-2d0e-4697-9e84-5aad60cdc525",
   "metadata": {},
   "outputs": [
    {
     "name": "stdout",
     "output_type": "stream",
     "text": [
      "<class 'list'>\n",
      "['THE', 'QUICK', 'BROWN', 'FOX', 'JUMPS', 'OVER', 'THE', 'LAZY', 'DOG']\n",
      "['the', 'quick', 'brown', 'fox', 'jumps', 'over', 'the', 'lazy', 'dog']\n",
      "[3, 5, 5, 3, 5, 4, 3, 4, 3]\n",
      "[['THE', 'the', 3], ['QUICK', 'quick', 5], ['BROWN', 'brown', 5], ['FOX', 'fox', 3], ['JUMPS', 'jumps', 5], ['OVER', 'over', 4], ['THE', 'the', 3], ['LAZY', 'lazy', 4], ['DOG', 'dog', 3]]\n",
      "['quick', 'brown', 'jumps', 'over', 'lazy']\n"
     ]
    }
   ],
   "source": [
    "#Q7 Operations on list.\n",
    "words = ['The', 'quick', 'brown', 'fox', 'jumps', 'over','the', 'lazy', 'dog']\n",
    "print(type(words))\n",
    "Upper=[word.upper() for word in words]\n",
    "print(Upper)\n",
    "Lower=[word.lower() for word in words]\n",
    "print(Lower)\n",
    "Length=[len(word) for word in words]\n",
    "print(Length)\n",
    "MixedList = []\n",
    "for word in words:\n",
    "    Mixer=[word.upper(),word.lower(),len(word)]\n",
    "    MixedList+=[Mixer]\n",
    "print(MixedList)\n",
    "MixerList2=[]\n",
    "for word in words:\n",
    "    if len(word)>3:\n",
    "        MixerList2+=[word]\n",
    "print(MixerList2)"
   ]
  },
  {
   "cell_type": "code",
   "execution_count": null,
   "id": "489098d9-e32f-49e8-b62d-6260ea160502",
   "metadata": {},
   "outputs": [],
   "source": []
  }
 ],
 "metadata": {
  "kernelspec": {
   "display_name": "Python 3 (ipykernel)",
   "language": "python",
   "name": "python3"
  },
  "language_info": {
   "codemirror_mode": {
    "name": "ipython",
    "version": 3
   },
   "file_extension": ".py",
   "mimetype": "text/x-python",
   "name": "python",
   "nbconvert_exporter": "python",
   "pygments_lexer": "ipython3",
   "version": "3.10.9"
  }
 },
 "nbformat": 4,
 "nbformat_minor": 5
}
